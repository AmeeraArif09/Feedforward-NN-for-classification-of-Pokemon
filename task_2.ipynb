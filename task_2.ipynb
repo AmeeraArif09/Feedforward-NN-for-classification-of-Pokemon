{
  "nbformat": 4,
  "nbformat_minor": 0,
  "metadata": {
    "kernelspec": {
      "display_name": "Python 3",
      "language": "python",
      "name": "python3"
    },
    "language_info": {
      "codemirror_mode": {
        "name": "ipython",
        "version": 3
      },
      "file_extension": ".py",
      "mimetype": "text/x-python",
      "name": "python",
      "nbconvert_exporter": "python",
      "pygments_lexer": "ipython3",
      "version": "3.6.6"
    },
    "colab": {
      "name": "task-2.ipynb",
      "provenance": []
    }
  },
  "cells": [
    {
      "cell_type": "code",
      "metadata": {
        "id": "EBh-NDIYhHhi",
        "colab_type": "code",
        "colab": {}
      },
      "source": [
        "import cv2\n",
        "import os\n",
        "import torch\n",
        "import numpy as np # linear algebra\n",
        "from tqdm import tqdm\n",
        "from scipy import ndimage\n",
        "from torch import nn, optim\n",
        "import matplotlib.pyplot as plt\n",
        "import torch.nn.functional as F\n",
        "from sklearn.utils import shuffle #shuffle dataset\n",
        "from skimage.transform import rotate\n",
        "from skimage.util import random_noise\n",
        "from skimage.filters import gaussian\n",
        "from torch.utils.data import Dataset, DataLoader #make dataset batches and load them to model\n",
        "from sklearn.model_selection import train_test_split"
      ],
      "execution_count": 0,
      "outputs": []
    },
    {
      "cell_type": "code",
      "metadata": {
        "id": "TKxzDoU7hHhp",
        "colab_type": "code",
        "colab": {},
        "outputId": "21274a27-1791-47c6-9f3e-ab93ac02eddd"
      },
      "source": [
        "torch.cuda.is_available()"
      ],
      "execution_count": 0,
      "outputs": [
        {
          "output_type": "execute_result",
          "data": {
            "text/plain": [
              "True"
            ]
          },
          "metadata": {
            "tags": []
          },
          "execution_count": 2
        }
      ]
    },
    {
      "cell_type": "code",
      "metadata": {
        "_cell_guid": "b1076dfc-b9ad-4769-8c92-a6c4dae69d19",
        "_uuid": "8f2839f25d086af736a60e9eeb907d3b93b6e0e5",
        "id": "Ho9W0OZBhHhu",
        "colab_type": "code",
        "colab": {}
      },
      "source": [
        "charmander = [] \n",
        "squirtle = [] \n",
        "mewtwo = [] \n",
        "bulbasaur = [] \n",
        "pikachu = []\n",
        "\n",
        "image_height = 96\n",
        "image_width = 96\n",
        "channels = 3\n",
        "\n",
        "for dirname, _, filenames in os.walk('/kaggle/input'):\n",
        "    for filename in filenames:\n",
        "        if filename == \"Thumbs.db\":\n",
        "                continue\n",
        "        path = os.path.join(dirname, filename)\n",
        "        img = cv2.imread(path)\n",
        "        img = cv2.resize(img,(image_height,image_width), interpolation = cv2.INTER_AREA)\n",
        "        np_arr = np.asarray(img)\n",
        "        np_arr = np_arr.reshape(1,image_width*image_width*channels)\n",
        "        if dirname == \"/kaggle/input/dataset/charmander\":\n",
        "            charmander.append(np_arr)\n",
        "        elif dirname == \"/kaggle/input/dataset/squirtle\":\n",
        "            squirtle.append(np_arr)\n",
        "        elif dirname == \"/kaggle/input/dataset/mewtwo\":\n",
        "            mewtwo.append(np_arr)\n",
        "        elif dirname == \"/kaggle/input/dataset/bulbasaur\":\n",
        "            bulbasaur.append(np_arr)\n",
        "        elif dirname == \"/kaggle/input/dataset/pikachu\":\n",
        "            pikachu.append(np_arr)"
      ],
      "execution_count": 0,
      "outputs": []
    },
    {
      "cell_type": "code",
      "metadata": {
        "_cell_guid": "79c7e3d0-c299-4dcb-8224-4455121ee9b0",
        "_uuid": "d629ff2d2480ee46fbb7e2d37f6b5fab8052498a",
        "id": "kylnMsRshHhy",
        "colab_type": "code",
        "colab": {},
        "outputId": "a812a329-c761-4e6f-a54a-836635b15474"
      },
      "source": [
        "print(\"Number of mewtwo Images:      \" + str(len(mewtwo)))\n",
        "print(\"Number of pikachu Images:     \" + str(len(pikachu)))\n",
        "print(\"Number of squirtle Images:    \" + str(len(squirtle)))\n",
        "print(\"Number of bulbasaur Images:   \" + str(len(bulbasaur)))\n",
        "print(\"Number of charmander Images:  \" + str(len(charmander)))"
      ],
      "execution_count": 0,
      "outputs": [
        {
          "output_type": "stream",
          "text": [
            "Number of mewtwo Images:      239\n",
            "Number of pikachu Images:     234\n",
            "Number of squirtle Images:    223\n",
            "Number of bulbasaur Images:   234\n",
            "Number of charmander Images:  238\n"
          ],
          "name": "stdout"
        }
      ]
    },
    {
      "cell_type": "code",
      "metadata": {
        "id": "dCaOFBqihHh2",
        "colab_type": "code",
        "colab": {}
      },
      "source": [
        "mewtwo_labels = np.zeros([len(mewtwo),1],dtype=int)\n",
        "pikachu_labels = np.ones([len(pikachu),1],dtype=int)\n",
        "squirtle_labels = np.ones([len(squirtle),1],dtype=int)*2\n",
        "bulbasaur_labels = np.ones([len(bulbasaur),1],dtype=int)*3\n",
        "charmander_labels = np.ones([len(charmander),1],dtype=int)*4"
      ],
      "execution_count": 0,
      "outputs": []
    },
    {
      "cell_type": "code",
      "metadata": {
        "id": "idZ-IkN_hHh6",
        "colab_type": "code",
        "colab": {}
      },
      "source": [
        "X = charmander + squirtle + mewtwo + bulbasaur + pikachu\n",
        "Y = np.concatenate((charmander_labels , squirtle_labels , mewtwo_labels , bulbasaur_labels , pikachu_labels), axis=0)"
      ],
      "execution_count": 0,
      "outputs": []
    },
    {
      "cell_type": "code",
      "metadata": {
        "id": "1r56U5OqhHh-",
        "colab_type": "code",
        "colab": {}
      },
      "source": [
        "X = np.asarray(X)\n",
        "X,Y = shuffle(X,Y)\n",
        "\n",
        "X_train, X_val, Y_train, Y_val = train_test_split(X,Y, test_size=0.10, random_state=42)\n",
        "X_train, X_test, Y_train, Y_test = train_test_split(X_train,Y_train, test_size=0.15, random_state=42)"
      ],
      "execution_count": 0,
      "outputs": []
    },
    {
      "cell_type": "code",
      "metadata": {
        "id": "zdUJcjOchHiD",
        "colab_type": "code",
        "colab": {},
        "outputId": "7002d18b-273a-4e48-a872-14bb58bf08ea"
      },
      "source": [
        "print(\"Train Size:  \"+ str(len(X_train)))\n",
        "print(\"Validation Size:  \"+ str(len(X_val)))\n",
        "print(\"Test Size:  \"+ str(len(X_test)))"
      ],
      "execution_count": 0,
      "outputs": [
        {
          "output_type": "stream",
          "text": [
            "Train Size:  893\n",
            "Validation Size:  117\n",
            "Test Size:  158\n"
          ],
          "name": "stdout"
        }
      ]
    },
    {
      "cell_type": "code",
      "metadata": {
        "id": "o52FozulhHiH",
        "colab_type": "code",
        "colab": {}
      },
      "source": [
        "X_train = X_train.astype('float32')\n",
        "X_test = X_test.astype('float32')\n",
        "X_val = X_val.astype('float32')\n",
        "\n",
        "#changing uint8 pixel values to be b/w 0 and 1 \n",
        "X_train /= 255 \n",
        "X_test /= 255\n",
        "X_val /= 255"
      ],
      "execution_count": 0,
      "outputs": []
    },
    {
      "cell_type": "code",
      "metadata": {
        "id": "BOd7HvzKhHiK",
        "colab_type": "code",
        "colab": {}
      },
      "source": [
        "X_train = X_train.reshape(X_train.shape[0],channels,image_height,image_width)\n",
        "X_test = X_test.reshape(X_test.shape[0],channels,image_height,image_width)\n",
        "X_val = X_val.reshape(X_val.shape[0],channels,image_height,image_width)"
      ],
      "execution_count": 0,
      "outputs": []
    },
    {
      "cell_type": "code",
      "metadata": {
        "id": "3z8ItrDEhHiP",
        "colab_type": "code",
        "colab": {},
        "outputId": "997f180d-b620-4c45-be74-89a6746b2a12"
      },
      "source": [
        "#Applying Augmentation techniques as dataset is small\n",
        "\n",
        "aug_X_train = []\n",
        "aug_Y_train = []\n",
        "for i in tqdm(range(X_train.shape[0])):\n",
        "    aug_X_train.append(X_train[i])\n",
        "    aug_X_train.append(rotate(X_train[i], angle=45, mode = 'wrap'))\n",
        "    aug_X_train.append(np.fliplr(X_train[i]))\n",
        "    aug_X_train.append(np.flipud(X_train[i]))\n",
        "    for j in range(4):\n",
        "        aug_Y_train.append(Y_train[i])"
      ],
      "execution_count": 0,
      "outputs": [
        {
          "output_type": "stream",
          "text": [
            "100%|██████████| 893/893 [00:04<00:00, 216.38it/s]\n"
          ],
          "name": "stderr"
        }
      ]
    },
    {
      "cell_type": "code",
      "metadata": {
        "id": "2HHtEBmahHiS",
        "colab_type": "code",
        "colab": {}
      },
      "source": [
        "X_train = np.asarray(aug_X_train)\n",
        "Y_train = np.asarray(aug_Y_train)\n",
        "\n",
        "X_train,Y_train = shuffle(X_train,Y_train)"
      ],
      "execution_count": 0,
      "outputs": []
    },
    {
      "cell_type": "code",
      "metadata": {
        "id": "YdbNcTlWhHiZ",
        "colab_type": "code",
        "colab": {},
        "outputId": "291f0806-829c-4163-9947-821de316ecd5"
      },
      "source": [
        "print(X_train.shape)\n",
        "print(Y_train.shape)"
      ],
      "execution_count": 0,
      "outputs": [
        {
          "output_type": "stream",
          "text": [
            "(3572, 3, 96, 96)\n",
            "(3572, 1)\n"
          ],
          "name": "stdout"
        }
      ]
    },
    {
      "cell_type": "code",
      "metadata": {
        "id": "6-tvA0QyhHif",
        "colab_type": "code",
        "colab": {}
      },
      "source": [
        "class PokemnDataset(Dataset):\n",
        "    \"\"\"Five Pokemon dataset including [charmander + squirtle + mewtwo + bulbasaur + pikachu].\"\"\"\n",
        "    def __init__(self,X, Y):\n",
        "        \"\"\"\n",
        "        Args:\n",
        "            X (Images): Numpy array of Images. dimensions [num,3,96,96]\n",
        "            Y (Labels): Numpy array of Labels corresponding to Images. dimension [num]\n",
        "            \n",
        "        \"\"\"\n",
        "        self.X = torch.from_numpy(X)\n",
        "        self.Y = torch.from_numpy(Y)\n",
        "    \n",
        "       \n",
        "    def __len__(self):\n",
        "        return len(self.Y)\n",
        "    \n",
        "    \n",
        "    def __getitem__(self, index):\n",
        "        \"\"\"\n",
        "        Args:\n",
        "            index (int): Index \n",
        "\n",
        "        Returns:\n",
        "            tuple: (image, label) \n",
        "        \"\"\"\n",
        "        img, label = self.X[index], int(self.Y[index])\n",
        "        \n",
        "        \"\"\"\n",
        "            img shape: [3,96,96]\n",
        "            label: int\n",
        "            \n",
        "        \"\"\"\n",
        "        return img, label"
      ],
      "execution_count": 0,
      "outputs": []
    },
    {
      "cell_type": "code",
      "metadata": {
        "id": "aRVrnEwohHil",
        "colab_type": "code",
        "colab": {}
      },
      "source": [
        "train_set = PokemnDataset(X_train,Y_train)\n",
        "val_set = PokemnDataset(X_val,Y_val)\n",
        "test_set = PokemnDataset(X_test,Y_test)"
      ],
      "execution_count": 0,
      "outputs": []
    },
    {
      "cell_type": "code",
      "metadata": {
        "id": "0UCO2N9NhHir",
        "colab_type": "code",
        "colab": {}
      },
      "source": [
        "train_loader = torch.utils.data.DataLoader(train_set, batch_size=32, shuffle=True)\n",
        "val_loader = torch.utils.data.DataLoader(val_set, batch_size=32, shuffle=True)\n",
        "test_loader = torch.utils.data.DataLoader(test_set, batch_size=len(X_test), shuffle=True)"
      ],
      "execution_count": 0,
      "outputs": []
    },
    {
      "cell_type": "code",
      "metadata": {
        "id": "ODJo7RlBhHiy",
        "colab_type": "code",
        "colab": {}
      },
      "source": [
        "class Classifier(nn.Module):\n",
        "    def __init__(self):\n",
        "        super().__init__()\n",
        "        \n",
        "        self.fc1 = nn.Linear(27648,13824)\n",
        "        self.fc2 = nn.Linear(13824, 6912)\n",
        "        self.fc3 = nn.Linear(6912, 3456)\n",
        "        self.fc4 = nn.Linear(3456, 1728)\n",
        "        self.fc5 = nn.Linear(1728, 1024)\n",
        "        self.fc6 = nn.Linear(1024,5)\n",
        "        \n",
        "        self.dropout = nn.Dropout(p=0.25)\n",
        "        \n",
        "    def forward(self, x):\n",
        "        # make sure input tensor is flattened\n",
        "        x = x.view(x.shape[0], -1)\n",
        "        \n",
        "       # Now with dropout\n",
        "        x = self.dropout(F.relu(self.fc1(x)))\n",
        "        x = self.dropout(F.relu(self.fc2(x)))\n",
        "        x = self.dropout(F.relu(self.fc3(x)))        \n",
        "        x = self.dropout(F.relu(self.fc4(x)))\n",
        "        x = self.dropout(F.relu(self.fc5(x)))\n",
        "              \n",
        "        \n",
        "        x = F.log_softmax(self.fc6(x), dim=1)\n",
        "        \n",
        "        return x"
      ],
      "execution_count": 0,
      "outputs": []
    },
    {
      "cell_type": "code",
      "metadata": {
        "id": "qjDbzaQVhHi3",
        "colab_type": "code",
        "colab": {}
      },
      "source": [
        "use_cuda = torch.cuda.is_available()\n",
        "device = torch.device(\"cuda\" if use_cuda else \"cpu\")"
      ],
      "execution_count": 0,
      "outputs": []
    },
    {
      "cell_type": "code",
      "metadata": {
        "id": "8bUAwzSphHi7",
        "colab_type": "code",
        "colab": {}
      },
      "source": [
        "model = Classifier().to(device)\n",
        "criterion = nn.NLLLoss()\n",
        "optimizer = optim.Adam(model.parameters(), lr=0.003)"
      ],
      "execution_count": 0,
      "outputs": []
    },
    {
      "cell_type": "code",
      "metadata": {
        "id": "-DJstdQ8hHjB",
        "colab_type": "code",
        "colab": {},
        "outputId": "a842f408-0fef-4944-9bcd-6bdd2de3c21b"
      },
      "source": [
        "epochs = 50\n",
        "min_val_loss = 1000000 #used to update wieghts file for minimum loss weights only\n",
        "\n",
        "\n",
        "train_losses, val_losses = [], []\n",
        "for e in range(epochs):\n",
        "    running_loss = 0\n",
        "    for images, labels in train_loader:\n",
        "        \n",
        "        optimizer.zero_grad()\n",
        "        \n",
        "        images, labels = images.to(device), labels.to(device).long()\n",
        "        \n",
        "        log_ps = model(images.float())\n",
        "        loss = criterion(log_ps, labels)\n",
        "        loss.backward()\n",
        "        optimizer.step()\n",
        "        \n",
        "        running_loss += loss.item()\n",
        "        \n",
        "    else:\n",
        "        val_loss = 0\n",
        "        accuracy = 0\n",
        "        \n",
        "        # Turn off gradients for validation, saves memory and computations\n",
        "        with torch.no_grad():\n",
        "            for images, labels in val_loader:\n",
        "                images, labels = images.to(device), labels.to(device).long()\n",
        "                log_ps = model(images.float())\n",
        "                val_loss += criterion(log_ps, labels)\n",
        "                \n",
        "                ps = torch.exp(log_ps)\n",
        "                top_p, top_class = ps.topk(1, dim=1)\n",
        "                equals = top_class == labels.view(*top_class.shape)\n",
        "                accuracy += torch.mean(equals.type(torch.FloatTensor))\n",
        "                \n",
        "        train_losses.append(running_loss/len(train_loader))\n",
        "        val_losses.append(val_loss/len(val_loader))\n",
        "\n",
        "        \n",
        "\n",
        "        print(\"Epoch: {}/{}.. \".format(e+1, epochs),\n",
        "              \"Training Loss: {:.3f}.. \".format(running_loss/len(train_loader)),\n",
        "              \"Validation Loss: {:.3f}.. \".format(val_loss/len(val_loader)),\n",
        "              \"Validation Accuracy: {:.3f}\".format(accuracy/len(val_loader)))\n",
        "        \n",
        "        if val_loss/len(val_loader) < min_val_loss:\n",
        "            min_val_loss = val_loss/len(val_loader)\n",
        "            torch.save(model.state_dict(), 'weights.pth')\n",
        "            print(\"Minimum Validation Loss updated. New Weights Saved\")"
      ],
      "execution_count": 0,
      "outputs": [
        {
          "output_type": "stream",
          "text": [
            "Epoch: 1/50..  Training Loss: 76.346..  Validation Loss: 1.727..  Validation Accuracy: 0.185\n",
            "Minimum Validation Loss updated. New Weights Saved\n",
            "Epoch: 2/50..  Training Loss: 1.647..  Validation Loss: 1.695..  Validation Accuracy: 0.240\n",
            "Minimum Validation Loss updated. New Weights Saved\n",
            "Epoch: 3/50..  Training Loss: 1.637..  Validation Loss: 1.601..  Validation Accuracy: 0.208\n",
            "Minimum Validation Loss updated. New Weights Saved\n",
            "Epoch: 4/50..  Training Loss: 1.630..  Validation Loss: 1.599..  Validation Accuracy: 0.247\n",
            "Minimum Validation Loss updated. New Weights Saved\n",
            "Epoch: 5/50..  Training Loss: 1.624..  Validation Loss: 1.613..  Validation Accuracy: 0.240\n",
            "Epoch: 6/50..  Training Loss: 1.625..  Validation Loss: 1.614..  Validation Accuracy: 0.176\n",
            "Epoch: 7/50..  Training Loss: 1.653..  Validation Loss: 1.614..  Validation Accuracy: 0.165\n",
            "Epoch: 8/50..  Training Loss: 1.627..  Validation Loss: 1.614..  Validation Accuracy: 0.177\n",
            "Epoch: 9/50..  Training Loss: 1.623..  Validation Loss: 1.614..  Validation Accuracy: 0.173\n",
            "Epoch: 10/50..  Training Loss: 1.638..  Validation Loss: 1.614..  Validation Accuracy: 0.173\n",
            "Epoch: 11/50..  Training Loss: 1.609..  Validation Loss: 1.614..  Validation Accuracy: 0.169\n",
            "Epoch: 12/50..  Training Loss: 1.630..  Validation Loss: 1.626..  Validation Accuracy: 0.169\n",
            "Epoch: 13/50..  Training Loss: 1.615..  Validation Loss: 1.611..  Validation Accuracy: 0.180\n",
            "Epoch: 14/50..  Training Loss: 1.616..  Validation Loss: 1.615..  Validation Accuracy: 0.181\n",
            "Epoch: 15/50..  Training Loss: 2.734..  Validation Loss: 2.200..  Validation Accuracy: 0.177\n",
            "Epoch: 16/50..  Training Loss: 1.804..  Validation Loss: 1.613..  Validation Accuracy: 0.173\n",
            "Epoch: 17/50..  Training Loss: 1.624..  Validation Loss: 1.615..  Validation Accuracy: 0.169\n",
            "Epoch: 18/50..  Training Loss: 1.681..  Validation Loss: 1.614..  Validation Accuracy: 0.173\n",
            "Epoch: 19/50..  Training Loss: 1.610..  Validation Loss: 1.614..  Validation Accuracy: 0.164\n",
            "Epoch: 20/50..  Training Loss: 1.619..  Validation Loss: 1.615..  Validation Accuracy: 0.160\n",
            "Epoch: 21/50..  Training Loss: 1.609..  Validation Loss: 1.615..  Validation Accuracy: 0.164\n",
            "Epoch: 22/50..  Training Loss: 1.609..  Validation Loss: 1.615..  Validation Accuracy: 0.169\n",
            "Epoch: 23/50..  Training Loss: 1.614..  Validation Loss: 1.613..  Validation Accuracy: 0.181\n",
            "Epoch: 24/50..  Training Loss: 2.038..  Validation Loss: 1.614..  Validation Accuracy: 0.173\n",
            "Epoch: 25/50..  Training Loss: 1.670..  Validation Loss: 1.616..  Validation Accuracy: 0.160\n",
            "Epoch: 26/50..  Training Loss: 1.614..  Validation Loss: 1.615..  Validation Accuracy: 0.160\n",
            "Epoch: 27/50..  Training Loss: 1.609..  Validation Loss: 1.615..  Validation Accuracy: 0.177\n",
            "Epoch: 28/50..  Training Loss: 1.753..  Validation Loss: 1.613..  Validation Accuracy: 0.177\n",
            "Epoch: 29/50..  Training Loss: 1.615..  Validation Loss: 1.614..  Validation Accuracy: 0.164\n",
            "Epoch: 30/50..  Training Loss: 1.609..  Validation Loss: 1.614..  Validation Accuracy: 0.173\n",
            "Epoch: 31/50..  Training Loss: 1.609..  Validation Loss: 1.614..  Validation Accuracy: 0.169\n",
            "Epoch: 32/50..  Training Loss: 1.616..  Validation Loss: 1.614..  Validation Accuracy: 0.160\n",
            "Epoch: 33/50..  Training Loss: 1.665..  Validation Loss: 1.613..  Validation Accuracy: 0.169\n",
            "Epoch: 34/50..  Training Loss: 1.730..  Validation Loss: 1.614..  Validation Accuracy: 0.173\n",
            "Epoch: 35/50..  Training Loss: 1.609..  Validation Loss: 1.613..  Validation Accuracy: 0.181\n",
            "Epoch: 36/50..  Training Loss: 1.609..  Validation Loss: 1.613..  Validation Accuracy: 0.177\n",
            "Epoch: 37/50..  Training Loss: 1.610..  Validation Loss: 1.614..  Validation Accuracy: 0.173\n",
            "Epoch: 38/50..  Training Loss: 1.609..  Validation Loss: 1.613..  Validation Accuracy: 0.173\n",
            "Epoch: 39/50..  Training Loss: 1.610..  Validation Loss: 1.613..  Validation Accuracy: 0.181\n",
            "Epoch: 40/50..  Training Loss: 1.609..  Validation Loss: 1.615..  Validation Accuracy: 0.169\n",
            "Epoch: 41/50..  Training Loss: 1.609..  Validation Loss: 1.613..  Validation Accuracy: 0.185\n",
            "Epoch: 42/50..  Training Loss: 1.615..  Validation Loss: 1.614..  Validation Accuracy: 0.173\n",
            "Epoch: 43/50..  Training Loss: 1.609..  Validation Loss: 1.614..  Validation Accuracy: 0.173\n",
            "Epoch: 44/50..  Training Loss: 1.609..  Validation Loss: 1.614..  Validation Accuracy: 0.169\n",
            "Epoch: 45/50..  Training Loss: 1.609..  Validation Loss: 1.614..  Validation Accuracy: 0.173\n",
            "Epoch: 46/50..  Training Loss: 1.609..  Validation Loss: 1.615..  Validation Accuracy: 0.160\n",
            "Epoch: 47/50..  Training Loss: 1.630..  Validation Loss: 1.601..  Validation Accuracy: 0.176\n",
            "Epoch: 48/50..  Training Loss: 1.609..  Validation Loss: 1.614..  Validation Accuracy: 0.160\n",
            "Epoch: 49/50..  Training Loss: 1.609..  Validation Loss: 1.615..  Validation Accuracy: 0.160\n",
            "Epoch: 50/50..  Training Loss: 1.609..  Validation Loss: 1.615..  Validation Accuracy: 0.156\n"
          ],
          "name": "stdout"
        }
      ]
    },
    {
      "cell_type": "code",
      "metadata": {
        "id": "2uMBFHfbhHjH",
        "colab_type": "code",
        "colab": {},
        "outputId": "9e2274ef-8d43-40f1-ffe3-60458995436e"
      },
      "source": [
        "plt.plot(train_losses, label='Training loss')\n",
        "plt.plot(val_losses, label='Validation loss')\n",
        "plt.legend(frameon=False)"
      ],
      "execution_count": 0,
      "outputs": [
        {
          "output_type": "execute_result",
          "data": {
            "text/plain": [
              "<matplotlib.legend.Legend at 0x7fa282487128>"
            ]
          },
          "metadata": {
            "tags": []
          },
          "execution_count": 21
        },
        {
          "output_type": "display_data",
          "data": {
            "image/png": "[encoded data removed]",
            "text/plain": [
              "<Figure size 432x288 with 1 Axes>"
            ]
          },
          "metadata": {
            "tags": [],
            "needs_background": "light"
          }
        }
      ]
    },
    {
      "cell_type": "code",
      "metadata": {
        "id": "S8T7CM-phHjQ",
        "colab_type": "code",
        "colab": {},
        "outputId": "c0692eee-0fd8-45f9-b6f1-1a83039d1190"
      },
      "source": [
        "#load the best weights\n",
        "state_dict = torch.load('weights.pth')\n",
        "model.load_state_dict(state_dict)"
      ],
      "execution_count": 0,
      "outputs": [
        {
          "output_type": "execute_result",
          "data": {
            "text/plain": [
              "<All keys matched successfully>"
            ]
          },
          "metadata": {
            "tags": []
          },
          "execution_count": 22
        }
      ]
    },
    {
      "cell_type": "code",
      "metadata": {
        "id": "oGsUJ95uhHjW",
        "colab_type": "code",
        "colab": {},
        "outputId": "7e744fbe-f0ee-479c-aaea-175d42beb32b"
      },
      "source": [
        "images, labels = next(iter(test_loader))\n",
        "# Get the class probabilities\n",
        "images, labels = images.to(device), labels.to(device).long()\n",
        "ps = torch.exp(model(images.float()))\n",
        "\n",
        "top_p, top_class = ps.topk(1, dim=1)\n",
        "equals = top_class == labels.view(*top_class.shape)\n",
        "\n",
        "accuracy = torch.mean(equals.type(torch.FloatTensor))\n",
        "print(f' Test Accuracy: {accuracy.item()*100}%')"
      ],
      "execution_count": 0,
      "outputs": [
        {
          "output_type": "stream",
          "text": [
            " Test Accuracy: 25.316455960273743%\n"
          ],
          "name": "stdout"
        }
      ]
    }
  ]
}